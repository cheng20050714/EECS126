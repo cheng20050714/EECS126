{
 "cells": [
  {
   "cell_type": "markdown",
   "metadata": {},
   "source": [
    "# Pocket Planet\n",
    "\n",
    "\n",
    "#### Authors:\n",
    "v1.0 (2020 Spring) Alexander Khazatsky, William Gan, Kannan Ramchandran\n",
    "\n",
    "\n",
    "v2.0 (2023 Spring) Andy Dong\n",
    "\n",
    "## Introduction\n",
    "\n",
    "In this lab, we simulate the growth and evolution of vegetation in coastal areas and try to understand how biological evolution is affected by gene type, rate of mutation, land type, and other variants. To do so, we will set up a world and treat plants as particles. At each time step, these plants will reproduce and compete with each other for the limited space, in the process passing on the fitter genes.\n",
    "\n",
    "Below is an example of such a simulation we will build.\n",
    "\n",
    "<div>\n",
    "  <table>\n",
    "    <tr>\n",
    "      <td>\n",
    "        <img src=\"images/cover_photo.png\" width=\"400\"/>\n",
    "      </td>\n",
    "    </tr>\n",
    "  </table>\n",
    "</div>"
   ]
  },
  {
   "cell_type": "code",
   "execution_count": null,
   "metadata": {},
   "outputs": [],
   "source": [
    "from pocket_planet_utils import *"
   ]
  },
  {
   "cell_type": "markdown",
   "metadata": {},
   "source": [
    "## Part 1: Generating the World\n",
    "\n",
    "The first step to our simulation is to build the world. But how do we generate elevations and lanscapes that look realistic? A lot of research has been poured into this, and one method which has been successful is Perlin noise, which you can read more about on [Wikipedia](https://en.wikipedia.org/wiki/Perlin_noise) and this [blog post](https://flafla2.github.io/2014/08/09/perlinnoise.html). It is used in both animated movies and Minecraft, and we will use it too in this lab. Below you will find perlin noise in 1, 2, and 3 dimensions.\n",
    "\n",
    "<div>\n",
    "  <table>\n",
    "    <tr>\n",
    "      <td>\n",
    "        <img src=\"images/perlin_noise.png\", width=875px>\n",
    "      </td>\n",
    "    </tr>\n",
    " </table>\n",
    "</div>\n"
   ]
  },
  {
   "cell_type": "markdown",
   "metadata": {},
   "source": [
    "We will design our world to be a 100 pixel by 100 pixel square with 7 terrains: ocean, shallows, sand, dirt, inland, mountain, and snow. Each terrain will corresponds to an elevation range, and so to generate our world, we just need to generate 2-dimensional perlin noise to use for our elevations. The following pictures show what the elevations and worlds should end up looking like.\n",
    "\n",
    "<div>\n",
    "  <table>\n",
    "    <tr>\n",
    "      <td>\n",
    "        <img src=\"images/elevations.png\">\n",
    "      </td>\n",
    "      <td>\n",
    "        <img src=\"images/uninhabited.png\">      \n",
    "      </td>\n",
    "    </tr>\n",
    "  </table>\n",
    "</div>"
   ]
  },
  {
   "cell_type": "markdown",
   "metadata": {},
   "source": [
    "Now, to generate the functions of each frequency, we create a $(l+1) \\times (l+1)$ array of unit gradient vectors (kind of like what is shown on the left), where $l$ is the maximum frequency (in the above picture, it is 128). Each square in this grid has 4 gradient vectors on the corner, as shown on the right.\n",
    "\n",
    "<div>\n",
    "  <table>\n",
    "    <tr>\n",
    "      <td>\n",
    "        <img src=\"images/perlin_gradients.png\">\n",
    "      </td>\n",
    "      <td>\n",
    "        <img src=\"images/perlin_grad_4.png\">\n",
    "      </td>\n",
    "    </tr>\n",
    " </table>\n",
    "</div>"
   ]
  },
  {
   "cell_type": "markdown",
   "metadata": {},
   "source": [
    "The cell below generates $n$-dimensional gradient vectors with unit length. Each gradient vector is computed by independently sampling from $\\mathcal{N}(0, I_n)$ and then normalizing it to be unit length."
   ]
  },
  {
   "cell_type": "code",
   "execution_count": null,
   "metadata": {},
   "outputs": [],
   "source": [
    "def generate_gradient(n):\n",
    "    grad = np.random.normal(size=n)\n",
    "    norm = np.linalg.norm(grad)\n",
    "    gradient = grad / norm\n",
    "    return gradient"
   ]
  },
  {
   "cell_type": "markdown",
   "metadata": {},
   "source": [
    "The cell below, generates the array of gradients for the 2D case as a NumPy array with shape $(l+1, l+1, 2)$."
   ]
  },
  {
   "cell_type": "code",
   "execution_count": null,
   "metadata": {},
   "outputs": [],
   "source": [
    "def generate_corner_gradients(l):\n",
    "    corners = np.array([generate_gradient(2) for _ in range((l+1) * (l+1))])\n",
    "    corners = corners.reshape(l+1, l+1, 2)\n",
    "    return corners"
   ]
  },
  {
   "cell_type": "markdown",
   "metadata": {},
   "source": [
    "Now comes the interpolation part. For a general point in $[0, l] \\times [0, l]$, we find which square it lies by looking at the floor and ceiling of its x and y coordinates. Then, we compute the dot product of the gradient vector and \"delta\" vector for each of the 4 corners of the square it lies in. The \"delta\" vectors for a point in one of the $l \\times l$ squares is shown below.\n",
    "\n",
    "<div>\n",
    "  <table>\n",
    "    <tr>\n",
    "      <td>\n",
    "        <img src=\"images/perlin_dist_4.png\">\n",
    "      </td>\n",
    "    </tr>\n",
    " </table>\n",
    "</div>"
   ]
  },
  {
   "cell_type": "code",
   "execution_count": null,
   "metadata": {},
   "outputs": [],
   "source": [
    "def compute_dot_products(gradients, x, y):\n",
    "    floor_x, floor_y = int(x), int(y)\n",
    "    ceil_x, ceil_y = floor_x + 1, floor_y + 1\n",
    "    corner_coords = np.array([[[floor_x, floor_y], [ceil_x, floor_y]],\n",
    "                              [[floor_x, ceil_y], [ceil_x, ceil_y]]])\n",
    "    corner_gradients = gradients[floor_y: ceil_y+1, floor_x: ceil_x+1]\n",
    "    delta = np.array([x, y]) - corner_coords\n",
    "    return np.sum(corner_gradients * delta, axis=2)"
   ]
  },
  {
   "cell_type": "markdown",
   "metadata": {},
   "source": [
    "Now we want to interpolate a value at (x, y) given the values at the 4 corners. It turns out a nice function for doing this involves a degree-5 polynomial."
   ]
  },
  {
   "cell_type": "code",
   "execution_count": null,
   "metadata": {},
   "outputs": [],
   "source": [
    "def smooth_interp(t, a, b):\n",
    "    smooth_t = 6*t**5 - 15*t**4 + 10*t**3\n",
    "    return (1 - smooth_t) * a + smooth_t * b"
   ]
  },
  {
   "cell_type": "markdown",
   "metadata": {},
   "source": [
    "Bilinearly interpolate."
   ]
  },
  {
   "cell_type": "code",
   "execution_count": null,
   "metadata": {},
   "outputs": [],
   "source": [
    "def interpolate(dots, x, y):\n",
    "    dx = x - np.floor(x)\n",
    "    dy = y - np.floor(y)\n",
    "    interp1 = smooth_interp(dx, dots[0, 0], dots[0, 1])\n",
    "    interp2 = smooth_interp(dx, dots[1, 0], dots[1, 1])\n",
    "    interp = smooth_interp(dy, interp1, interp2)\n",
    "    return interp"
   ]
  },
  {
   "cell_type": "markdown",
   "metadata": {},
   "source": [
    "Now to put everything together, even though our array of gradients corresponds to a point in $[0, l] \\times [0, l]$, each pixel in our 100 x 100 square world will just correspond to a point $[0, 1] \\times [0, 1]$. However, we will still use the rest of the array as we will generate the higher frequency functions by mapping a point $x, y \\in [0, 1] \\times [0, 1]$ to $f \\cdot x, f \\cdot y \\in [0, l] \\times [0, l]$, where $f$ is the frequency."
   ]
  },
  {
   "cell_type": "code",
   "execution_count": null,
   "metadata": {},
   "outputs": [],
   "source": [
    "def generate_world(size=100, l=4):\n",
    "    grad = generate_corner_gradients(2 ** l + 1)\n",
    "    units = np.linspace(0, 1, size)\n",
    "    rescale_factor = (2 ** 0.5)\n",
    "    grid = np.zeros((size, size))\n",
    "    for i, x in enumerate(units):\n",
    "        for j, y in enumerate(units):\n",
    "            for log_f in range(l):\n",
    "                f = 2 ** log_f\n",
    "                amp = 1 / f\n",
    "                new_x = x * f\n",
    "                new_y = y * f\n",
    "                dots = compute_dot_products(grad, new_x, new_y)\n",
    "                val = interpolate(dots, new_x, new_y)\n",
    "                rescaled_val = val * rescale_factor\n",
    "                grid[j][i] += rescaled_val * amp\n",
    "    grid /= 2 - 2 ** (1 - l)        \n",
    "    return grid"
   ]
  },
  {
   "cell_type": "markdown",
   "metadata": {},
   "source": [
    "You may have to run this cell and the cell below several times to get the world you want."
   ]
  },
  {
   "cell_type": "code",
   "execution_count": null,
   "metadata": {},
   "outputs": [],
   "source": [
    "fig, ax = plt.subplots(1, 4, figsize=(20, 4))\n",
    "test_worlds = []\n",
    "fig.suptitle('2D Perlin Noise with Different l')\n",
    "for l in range(4):\n",
    "    world = generate_world(l=l+1)\n",
    "    test_worlds.append(world)\n",
    "    ax[l].set_title(f'l={l+1}')\n",
    "    im = ax[l].imshow(world)\n",
    "    fig.colorbar(im, ax=ax[l], fraction=0.046, pad=0.04)"
   ]
  },
  {
   "cell_type": "code",
   "execution_count": null,
   "metadata": {
    "scrolled": true
   },
   "outputs": [],
   "source": [
    "fig, ax = plt.subplots(1, 4, figsize=(16, 4))\n",
    "fig.suptitle('Uninhabited Worlds with Different l')\n",
    "for l in range(4):\n",
    "    uninhabited_world = get_uninhabited_world(test_worlds[l])\n",
    "    ax[l].set_title(f'l={l+1}')\n",
    "    im = ax[l].imshow(uninhabited_world)"
   ]
  },
  {
   "cell_type": "markdown",
   "metadata": {},
   "source": [
    "Use the knobs below to visualize worlds with defined height vectors for the enviorment types."
   ]
  },
  {
   "cell_type": "code",
   "execution_count": null,
   "metadata": {},
   "outputs": [],
   "source": [
    "grid = generate_world()\n",
    "\n",
    "@interact(ocean=h_o,shallows=h,beach=h,dirt=h,inland=h,mountain=h)\n",
    "def toggle_ground_heights(ocean=0.01,\n",
    "                          shallows=0.075,\n",
    "                          beach=0.15,\n",
    "                          dirt=0.2,\n",
    "                          inland=0.3,\n",
    "                          mountain=0.4,):\n",
    "    heights = np.array([ocean, shallows, beach, dirt, inland, mountain, 1])\n",
    "    visualize_height_values(heights, grid)"
   ]
  },
  {
   "cell_type": "markdown",
   "metadata": {},
   "source": [
    "## Part 2: Bringing Particles to Life\n",
    "\n",
    "Now that we have our terrain, we can set up our vegetation. The idea is our particles will be able to move around on our 100 x 100 grid, but first, we need to define the state of a particle. For simplicity, we assume the only kind of plant is trees. Each tree has DNA, which is a convex combination of 5 archetypes, each corresponding to an inhabitable land type in our world. (As a side note, a convex combination means a linear combination where the weights are non-negative and add up to 1. Also we consider ocean as not inhabitable for trees.) Here is the correspondence table of the land types and their ideal tree types. For example, a DNA of $[0.05, 0.05, 0.05, 0.8, 0.05]$ will be a tree well suited to live in the Inland environment.\n",
    "\n",
    "\n",
    "<div>\n",
    "  <table>\n",
    "    <tr>\n",
    "      <td>\n",
    "        <img src=\"images/plant_land_table.png\", width=400px>    \n",
    "      </td>\n",
    "    </tr>\n",
    "  </table>\n",
    "</div>"
   ]
  },
  {
   "cell_type": "markdown",
   "metadata": {},
   "source": [
    "We will initialize a tree's DNA by sampling each element uniformly from $[0, 1]$ independently and normalizing this vector.\n",
    "\n",
    "At each time step, a tree may have offpring (seeds) whose DNA will be slightly mutated. The mutation adds a small pertubation vector to the parent's DNA vector. The pertubation vector has each entry sampled uniformly from $[-\\sigma, \\sigma]$ for some small $\\sigma$. Then, we clip each entry of the result to the range $[0, 1]$ and re-normalize.\n",
    "\n",
    "You do not need to follow the steps above! You are free to design any initialization and mutation scheme that you want to experiment with, but make sure that at each time step, every tree's DNA vector is non-negative and sums to 1."
   ]
  },
  {
   "cell_type": "markdown",
   "metadata": {},
   "source": [
    "**Question 2a**. In the following cell, fill out the functions for generating the initial random DNA as well as generating offspring."
   ]
  },
  {
   "cell_type": "code",
   "execution_count": null,
   "metadata": {},
   "outputs": [],
   "source": [
    "class Tree(AbstractTree):\n",
    "\n",
    "    def initialize_random_dna(self):\n",
    "        # START YOUR CODE HERE\n",
    "        \n",
    "        # END YOUR CODE HERE\n",
    "        self.dna = dna\n",
    "    \n",
    "    def generate_offspring(self, sigma):\n",
    "        # START MAGNIFICENT CODE HERE\n",
    "        \n",
    "        # END MAGNIFICENT CODE HERE\n",
    "        return Tree(dna=offspring_dna)"
   ]
  },
  {
   "cell_type": "markdown",
   "metadata": {},
   "source": [
    "Visualize DNA."
   ]
  },
  {
   "cell_type": "code",
   "execution_count": null,
   "metadata": {},
   "outputs": [],
   "source": [
    "@interact(Shallow=r, Beach=r, Dirt=r, Inland=r, Mountains=r)\n",
    "def f(Shallow, Beach, Dirt, Inland, Mountains):\n",
    "    unnormalized_DNA = np.array([Shallow, Beach, Dirt, Inland, Mountains])\n",
    "    DNA = unnormalized_DNA / np.sum(unnormalized_DNA)\n",
    "    tree = Tree(DNA)\n",
    "    visualize_dna(tree)"
   ]
  },
  {
   "cell_type": "markdown",
   "metadata": {},
   "source": [
    "Visualize mutations over multiple generations of a tree's DNA. Feel free to play with the variance and see how things change."
   ]
  },
  {
   "cell_type": "code",
   "execution_count": null,
   "metadata": {},
   "outputs": [],
   "source": [
    "tree = Tree()\n",
    "var = 0.01\n",
    "for i in range(30):\n",
    "    clear_output(wait=True)\n",
    "    visualize_dna(tree)\n",
    "    tree = tree.generate_offspring(var)"
   ]
  },
  {
   "cell_type": "markdown",
   "metadata": {},
   "source": [
    "## Part 3: Defining The Mechanics\n",
    "\n",
    "Now that we have our tree, we can define the mechanics that govern their survival and reproduction.\n",
    "\n",
    "- Our world will initially be empty, but at each time step, a tree can magically appear in a square with probability `self.life_prob`, perhaps through an animal bringing over its seed. This is be implemented in `simulate_life_creation`.\n",
    "- If tree is currently in a square, it survives each time step with some probability. This is implemented in `age_tree`.\n",
    "- If it survives, it can then also generate a number of offspring. The number of offspring is sampled independently from a binomial distribution with $n=\\text{self.max\\_seeds}$ and $p=\\text{fitness}$. You can change this distribution to play with too! This is implemented in `generate_offspring`.\n",
    "- Finally, if a bunch of trees are on the same square, they will compete for the square because resources are limited! Each tree $t$ on a square $s$ has an \"energy\" value that is equal to $\\exp(\\text{self.comp\\_constant} \\cdot \\text{t.fitness})$. Then, each tree on the square wins with probability proportional to its energy value. This is called the Boltzmann distribution and is implemented in `sample_boltzmann_distribution`."
   ]
  },
  {
   "cell_type": "markdown",
   "metadata": {},
   "source": [
    "**Question 3a**. Fill out the following class."
   ]
  },
  {
   "cell_type": "code",
   "execution_count": null,
   "metadata": {},
   "outputs": [],
   "source": [
    "class Square(AbstractSquare):\n",
    "    \n",
    "    def simulate_life_creation(self):\n",
    "        # Calls self.plant_seed(Tree()) with probability self.life_prob\n",
    "        # START YOUR CODE HERE\n",
    "        \n",
    "        # END YOUR CODE HERE\n",
    "                \n",
    "            \n",
    "    def age_tree(self):\n",
    "        # Calls self.terminate_tree() with probability 1-survival_prob\n",
    "        if not self.contains_tree():\n",
    "            return\n",
    "        survival_prob = self.tree.calc_fitness(self.env_type)\n",
    "        \n",
    "        # START YOUR CODE HERE\n",
    "        \n",
    "        # END YOUR CODE HERE\n",
    "        \n",
    "\n",
    "    def generate_offspring(self):\n",
    "        # Returns a list of offspring as described above. Generate num_offspring RV.\n",
    "        if not self.contains_tree():\n",
    "            return []\n",
    "        fitness = self.tree.calc_fitness(self.env_type)\n",
    "        \n",
    "        # START YOUR CODE HERE\n",
    "        \n",
    "        # END YOUR CODE HERE\n",
    "\n",
    "        offspring = [self.tree.generate_offspring(self.mutation_var) for i in range(num_offspring)]\n",
    "        return offspring\n",
    "    \n",
    "    \n",
    "    def sample_boltzmann_distribution(self, fitness, return_dist=False):\n",
    "        # START YOUR CODE HERE\n",
    "        \n",
    "        # END YOUR CODE HERE\n",
    "\n",
    "        if return_dist:\n",
    "            return probabilities\n",
    "        winner_index = random.choices(np.arange(0, len(fitness)), probabilities)[0]\n",
    "        return winner_index"
   ]
  },
  {
   "cell_type": "markdown",
   "metadata": {},
   "source": [
    "**Question 3b**. Use the next cell to visualize evolution for a single square in our world."
   ]
  },
  {
   "cell_type": "code",
   "execution_count": null,
   "metadata": {},
   "outputs": [],
   "source": [
    "var = 0.03\n",
    "comp_constant = 1000\n",
    "    \n",
    "square = create_secret_square(var, comp_constant, Square)\n",
    "\n",
    "for i in range(50):\n",
    "    plt.pause(0.1)\n",
    "    clear_output(wait=True)\n",
    "    psuedo_env_step(square, Tree)"
   ]
  },
  {
   "cell_type": "markdown",
   "metadata": {},
   "source": [
    "Based on your investigations, answer the following questions:\n",
    "\n",
    "1) What would you guess is the environment type of the square?\n",
    "\n",
    "- YOUR ANSWER HERE\n",
    "\n",
    "2) How does mutation variance affect the rate of convergence and the behavior once evolution has reached steady state?\n",
    "\n",
    "- YOUR ANSWER HERE\n",
    "\n",
    "3) In a rapidly changing environment, would we want a high or low mutation rate? What about in a predictable environment?\n",
    "\n",
    "- YOUR ANSWER HERE\n",
    "\n",
    "4) How does the competition constant affect rate of convergence and the behavior once evolution has reached steady state? \n",
    "\n",
    "- YOUR ANSWER HERE"
   ]
  },
  {
   "cell_type": "markdown",
   "metadata": {},
   "source": [
    "## Q4 Bringing It All Together\n",
    "\n",
    "You're almost done! All that is left is to make our particles be able to move across squares.\n",
    "\n",
    "- In `simulate_movement`, we want to be able to move a particle from position $i, j$.  To do this, we'll sample new_coord from $Normal([i,j], var)$, then clip to [min_val, max_val], and finally round to the nearest integer.\n",
    "- In `spread_seeds`, we'll get new positions for a seeds at $i, j$ by setting the variance for `simulate_movement`. If a square is an ocean, set variance to be self.waves_var. Otherwise, set it to be self.wind_var."
   ]
  },
  {
   "cell_type": "code",
   "execution_count": null,
   "metadata": {},
   "outputs": [],
   "source": [
    "class World(AbstractWorld):\n",
    "    def simulate_movement(self, i, j, var):\n",
    "        coord = np.array([i, j])\n",
    "        min_val, max_val = 0, self.dim - 1\n",
    "        \n",
    "        # START YOUR CODE HERE\n",
    "        \n",
    "        # END YOUR CODE HERE\n",
    "        # Note: make sure the elements of new_coord are integers\n",
    "        \n",
    "        return new_coord[0], new_coord[1]\n",
    "    \n",
    "    def spread_seeds(self, i, j):\n",
    "        square = self.world[i][j]\n",
    "        trees = square.get_seeds()\n",
    "        \n",
    "        if square.is_ocean():\n",
    "            var = self.waves_var\n",
    "        else:\n",
    "            var = self.wind_var\n",
    "            \n",
    "        for tree in trees:\n",
    "            x, y = self.simulate_movement(i, j, var)\n",
    "            self.world[x][y].plant_seed(tree)"
   ]
  },
  {
   "cell_type": "markdown",
   "metadata": {},
   "source": [
    "## Congratulations!\n",
    "\n",
    "You're free! We hope you've enjoyed this evolutionary journey. We highly recommend tinkering with the hyperparameters. After putting in all this work, you might as well get some fun out of it. If you find any cool properties, feel free to write about it below!"
   ]
  },
  {
   "cell_type": "code",
   "execution_count": null,
   "metadata": {},
   "outputs": [],
   "source": [
    "world = World(generate_world,\n",
    "              Square,\n",
    "              dim=100,\n",
    "              mutation_var=0.03,\n",
    "              comp_constant=100,\n",
    "              wind_var=2,\n",
    "              waves_var=5)\n",
    "\n",
    "for i in range(70):\n",
    "    world.env_step()"
   ]
  },
  {
   "cell_type": "markdown",
   "metadata": {},
   "source": [
    "**Question 4a**. When life initially starts to spread accross the map, the fitness curve is extremely volatile, but eventually it smooths out. Why is this?"
   ]
  },
  {
   "cell_type": "markdown",
   "metadata": {},
   "source": [
    "YOUR ANSWER HERE"
   ]
  },
  {
   "cell_type": "markdown",
   "metadata": {},
   "source": [
    "**Question 4b**. You might notice that the Coverage progression curve tends to match a sigmoid curve. Give a conjecture as to why this might be."
   ]
  },
  {
   "cell_type": "markdown",
   "metadata": {},
   "source": [
    "YOUR ANSWER HERE"
   ]
  },
  {
   "cell_type": "markdown",
   "metadata": {},
   "source": [
    "## References\n",
    "\n",
    "1. https://en.wikipedia.org/wiki/Perlin_noise\n",
    "1. https://flafla2.github.io/2014/08/09/perlinnoise.html\n",
    "1. https://gamedev.stackexchange.com/questions/23625/how-do-you-generate-tileable-perlin-noise"
   ]
  },
  {
   "cell_type": "code",
   "execution_count": null,
   "metadata": {},
   "outputs": [],
   "source": []
  }
 ],
 "metadata": {
  "anaconda-cloud": {},
  "kernelspec": {
   "display_name": "Python 3",
   "language": "python",
   "name": "python3"
  },
  "language_info": {
   "codemirror_mode": {
    "name": "ipython",
    "version": 3
   },
   "file_extension": ".py",
   "mimetype": "text/x-python",
   "name": "python",
   "nbconvert_exporter": "python",
   "pygments_lexer": "ipython3",
   "version": "3.8.5"
  }
 },
 "nbformat": 4,
 "nbformat_minor": 4
}
