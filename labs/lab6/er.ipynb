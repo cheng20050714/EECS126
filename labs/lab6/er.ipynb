{
 "cells": [
  {
   "cell_type": "markdown",
   "metadata": {},
   "source": [
    "# Random Graphs: The Erdős–Rényi and Stochastic Block Models\n",
    "\n",
    "#### Authors:\n",
    "\n",
    "v1.0 (2014 Fall) Rishi Sharma, Sahaana Suri, Kangwook Lee, Kannan Ramchandran<br />\n",
    "v1.1 (2015 Fall) Kabir Chandrasekher, Max Kanwal, Kangwook Lee, Kannan Ramchandran<br />\n",
    "v1.2 (2016 Fall) Kabir Chandrasekher, Tony Duan, David Marn, Ashvin Nair, Kangwook Lee, Kannan Ramchandran <br />\n",
    "v1.3 (2018 Spring) Tavor Baharav, Kaylee Burns, Gary Cheng, Sinho Chewi, Hemang Jangle, William Gan, Alvin Kao, Chen Meng, Vrettos Muolos, Kanaad Parvate, Ray Ramamurti <br />\n",
    "v1.4 (2018 Fall) Raghav Anand, Kurtland Chua, Payam Delgosha, William Gan, Avishek Ghosh, Justin Hong, Nikunj Jain, Katie Kang, Adarsh Karnati, Eric Liu, Kanaad Parvate, Ray Ramamurti, Amay Saxena, Kannan Ramchandran, Abhay Parekh <br />\n",
    "v2.0 (2022 Spring) Sohom Paul, Clark Wang, Catherine Huang <br />\n",
    "v2.1 (2022 Fall) Axel Li, Reina Wang, Andy Dong, Kannan Ramchandran <br />\n",
    "v3.0 (2023 Spring) Reina Wang, Thomas Courtade <br />"
   ]
  },
  {
   "cell_type": "markdown",
   "metadata": {},
   "source": [
    "## Question 1 -- The Erdős–Rényi Model"
   ]
  },
  {
   "cell_type": "markdown",
   "metadata": {},
   "source": [
    "To begin the lab, we explore random graphs, introduced by [Erdős and Rényi](http://www.renyi.hu/~p_erdos/1959-11.pdf).  We use the notation $\\operatorname{G}(n,p)$ to denote a random graph that has $n$ nodes and probability $p$ of an edge between each node."
   ]
  },
  {
   "cell_type": "markdown",
   "metadata": {},
   "source": [
    "This lab requires [Python 3.7+](https://www.python.org/downloads/) and the [NetworkX](http://networkx.github.io/documentation/stable/install.html), which comes by default with Anaconda. You can check your Python version and install NetworkX by running the two cells below; you may need to restart the Jupyter kernel after installing NetworkX.\n",
    "\n",
    "If either cell fails on your local machine, you can also navigate to [colab.research.google.com](colab.research.google.com) and upload this file to run this notebook remotely."
   ]
  },
  {
   "cell_type": "code",
   "execution_count": null,
   "metadata": {},
   "outputs": [],
   "source": [
    "import sys\n",
    "assert sys.version_info.major == 3, \"Please use Python3!\"\n",
    "assert sys.version_info.minor >= 7, \"This lab requires Python 3.7 or higher.\"\n",
    "print(\"Python version checks passed.\")"
   ]
  },
  {
   "cell_type": "code",
   "execution_count": null,
   "metadata": {},
   "outputs": [],
   "source": [
    "%pip install networkx"
   ]
  },
  {
   "cell_type": "markdown",
   "metadata": {},
   "source": [
    "We provide the following `Graph` class and a function written to draw graphs for you. You should know how to use `draw_graph`, but you don't really need to know how it works. Play around with it and look at those pretty graphs :)"
   ]
  },
  {
   "cell_type": "code",
   "execution_count": null,
   "metadata": {},
   "outputs": [],
   "source": [
    "%matplotlib inline\n",
    "from typing import Iterable, Tuple, Set\n",
    "\n",
    "import itertools\n",
    "import matplotlib.pyplot as plt\n",
    "import networkx as nx\n",
    "import numpy as np"
   ]
  },
  {
   "cell_type": "code",
   "execution_count": null,
   "metadata": {},
   "outputs": [],
   "source": [
    "Vertex = int\n",
    "\n",
    "class Graph:\n",
    "    def __init__(self, num_vertices: int):\n",
    "        self.vertices = [Vertex(i) for i in range(num_vertices)]\n",
    "        self.adjacency_lists = dict()\n",
    "        for v in self.vertices:\n",
    "            self.adjacency_lists[v] = set()\n",
    "\n",
    "    def get_neighbors(self, vertex: Vertex):\n",
    "        if vertex not in self.vertices:\n",
    "            raise ValueError(f\"Given vertex {vertex} not found in vertex set.\")\n",
    "        return self.adjacency_lists[vertex]\n",
    "\n",
    "    def add_edge(self, v1: Vertex, v2: Vertex):\n",
    "        if v1 not in self.vertices or v2 not in self.vertices:\n",
    "            raise ValueError(\n",
    "                f\"One of given vertices {v1} or {v2} not found in vertex set.\"\n",
    "            )\n",
    "        self.adjacency_lists[v1].add(v2)\n",
    "        self.adjacency_lists[v2].add(v1)\n",
    "\n",
    "    def add_edges(self, edge_list: Iterable[Tuple[Vertex, Vertex]]):\n",
    "        for v1, v2 in edge_list:\n",
    "            self.add_edge(v1, v2)"
   ]
  },
  {
   "cell_type": "code",
   "execution_count": null,
   "metadata": {},
   "outputs": [],
   "source": [
    "def draw_graph(\n",
    "    graph: Graph, \n",
    "    graph_layout='shell',\n",
    "    node_size=3200, \n",
    "    node_color='blue',\n",
    "    node_alpha=0.3,\n",
    "    node_text_size=24,\n",
    "    edge_color='blue',\n",
    "    edge_alpha=0.3,\n",
    "    edge_tickness=2,\n",
    "    text_font='sans-serif',\n",
    "):\n",
    "    nx_graph = nx.Graph()\n",
    "    for v1 in graph.vertices:\n",
    "        nx_graph.add_node(v1)\n",
    "        for v2 in graph.get_neighbors(v1):\n",
    "            nx_graph.add_edge(v1, v2)   \n",
    "    if graph_layout == 'spring':\n",
    "        graph_pos = nx.spring_layout(nx_graph)\n",
    "    elif graph_layout == 'spectral':\n",
    "        graph_pos = nx.spectral_layout(nx_graph)\n",
    "    elif graph_layout == 'random':\n",
    "        graph_pos = nx.random_layout(nx_graph)\n",
    "    else:\n",
    "        graph_pos=nx.shell_layout(nx_graph)\n",
    "    nx.draw_networkx_nodes(\n",
    "        nx_graph, \n",
    "        graph_pos, \n",
    "        node_size=node_size, \n",
    "        alpha=node_alpha,\n",
    "        node_color=node_color\n",
    "    )\n",
    "    nx.draw_networkx_edges(\n",
    "        nx_graph,\n",
    "        graph_pos,\n",
    "        width=edge_tickness,\n",
    "        alpha=edge_alpha,\n",
    "        edge_color=edge_color\n",
    "    )\n",
    "    nx.draw_networkx_labels(\n",
    "        nx_graph,\n",
    "        graph_pos,\n",
    "        font_size=node_text_size,\n",
    "        font_family=text_font\n",
    "    )\n",
    "    plt.show()"
   ]
  },
  {
   "cell_type": "code",
   "execution_count": null,
   "metadata": {},
   "outputs": [],
   "source": [
    "graph = Graph(num_vertices=3)\n",
    "edge_list = [(0, 1), (1, 2), (0, 2)]\n",
    "graph.add_edges(edge_list)\n",
    "draw_graph(graph)"
   ]
  },
  {
   "cell_type": "code",
   "execution_count": null,
   "metadata": {},
   "outputs": [],
   "source": [
    "graph = Graph(num_vertices=2)\n",
    "draw_graph(graph)"
   ]
  },
  {
   "cell_type": "markdown",
   "metadata": {},
   "source": [
    "Let's create a function that returns all the nodes that can be reached from a certain starting point given the representation of a graph above.\n",
    "\n",
    "### 1a. Fill out the following method to find the connected components from a starting node on a graph."
   ]
  },
  {
   "cell_type": "code",
   "execution_count": null,
   "metadata": {},
   "outputs": [],
   "source": [
    "def find_connected_component(graph: Graph, starting_node: Vertex) -> Set[Vertex]:\n",
    "    \"\"\"\n",
    "    Return a list of connected components of the graph connected to a starting node.\n",
    "    Make sure there aren't duplicates! \n",
    "\n",
    "    Hint: Perform a breadth- or depth-first search and return the set of vertices \n",
    "    reached. Be warned that recursive solutions will not work very well,\n",
    "    because Python will throw a RecursionError in later cells due to the\n",
    "    size of the call stack.\n",
    "    \"\"\"\n",
    "    visited = set()\n",
    "    ### YOUR CODE HERE\n",
    "    \n",
    "    ### END YOUR CODE\n",
    "    return visited"
   ]
  },
  {
   "cell_type": "code",
   "execution_count": null,
   "metadata": {},
   "outputs": [],
   "source": [
    "graph = Graph(num_vertices=3)\n",
    "edge_list = [(0, 1), (1, 2), (0, 2)]\n",
    "graph.add_edges(edge_list)\n",
    "draw_graph(graph)\n",
    "assert find_connected_component(graph, 0) == {0, 1, 2}"
   ]
  },
  {
   "cell_type": "code",
   "execution_count": null,
   "metadata": {},
   "outputs": [],
   "source": [
    "graph = Graph(num_vertices=8)\n",
    "edge_list = [(1, 2), (1, 3), (2, 4), (2, 5), (3, 5), (0, 6), (6, 7), (0, 7)]\n",
    "graph.add_edges(edge_list)\n",
    "draw_graph(graph)\n",
    "assert find_connected_component(graph, 0) == {0, 6, 7}\n",
    "assert find_connected_component(graph, 1) == {1, 2, 3, 4, 5}"
   ]
  },
  {
   "cell_type": "markdown",
   "metadata": {},
   "source": [
    "### 1b. Fill out the following method that takes and returns all the connected components of the graph."
   ]
  },
  {
   "cell_type": "markdown",
   "metadata": {},
   "source": [
    "You may want to use the function you wrote above."
   ]
  },
  {
   "cell_type": "code",
   "execution_count": null,
   "metadata": {},
   "outputs": [],
   "source": [
    "def connected_components(graph: Graph) -> Iterable[Set[Vertex]]:\n",
    "    \"\"\"\n",
    "    Return a list of sets containing the connected components of the graph.\n",
    "    Make sure there aren't duplicates! \n",
    "\n",
    "    Consider using the `find_connected_component()` function defined earlier.\n",
    "    Also, for efficiency reasons, please keep track of which vertices have already\n",
    "    appeared in a prior connected component to avoid making unnecessary calls\n",
    "    to `find_connected_component()`; otherwise the later cells will be very slow.\n",
    "    \"\"\"\n",
    "    components = []\n",
    "    ### YOUR CODE HERE\n",
    "    \n",
    "    ### END YOUR CODE\n",
    "    return components\n",
    "\n",
    "component_sizes = lambda graph: [\n",
    "    len(component) for component in (connected_components(graph))\n",
    "]\n",
    "largest_component_size = lambda graph: max(component_sizes(graph))"
   ]
  },
  {
   "cell_type": "code",
   "execution_count": null,
   "metadata": {},
   "outputs": [],
   "source": [
    "graph = Graph(num_vertices=8)\n",
    "edge_list = [(1, 2), (1, 3), (2, 4), (2, 5), (3, 5), (0, 6), (6, 7), (0, 7)]\n",
    "graph.add_edges(edge_list)\n",
    "draw_graph(graph)\n",
    "\n",
    "components = connected_components(graph)\n",
    "assert len(components) == 2\n",
    "assert {0, 6, 7} in components\n",
    "assert {1, 2, 3, 4, 5} in components\n",
    "assert largest_component_size(graph) == 5"
   ]
  },
  {
   "cell_type": "markdown",
   "metadata": {},
   "source": [
    "Next, we want to create a function that, given the number of nodes in a graph, will randomly generate edges between nodes. That is, we want to construct a random graph following the Erdős–Rényi model.\n",
    "\n",
    "### 1c. Fill out the following function to create an Erdős–Rényi random graph $\\operatorname{G}(n,p)$."
   ]
  },
  {
   "cell_type": "code",
   "execution_count": null,
   "metadata": {},
   "outputs": [],
   "source": [
    "def G_ER(n: int, p: float) -> Graph:\n",
    "    \"\"\"\n",
    "    Create a random graph G(n, p).\n",
    "    Consider using `graph.add_edge()` and `np.random.rand()`.\n",
    "    \"\"\"\n",
    "    graph = Graph(n)\n",
    "    for u, v in itertools.combinations(graph.vertices, 2):\n",
    "        ### YOUR CODE HERE\n",
    "        \n",
    "        ### END YOUR CODE\n",
    "    return graph"
   ]
  },
  {
   "cell_type": "markdown",
   "metadata": {},
   "source": [
    "Make sure you can see all nodes from 0 to 9 in the graph below -- if not, check your code!"
   ]
  },
  {
   "cell_type": "code",
   "execution_count": null,
   "metadata": {},
   "outputs": [],
   "source": [
    "graph = G_ER(10, 0.1)\n",
    "draw_graph(graph)"
   ]
  },
  {
   "cell_type": "markdown",
   "metadata": {},
   "source": [
    "## Question 2 -- Properties\n",
    "\n",
    "Now, let's run a few experiments to examine the properties of an Erdős - Rényi random graph.\n",
    "\n",
    "#### Part 1\n",
    "\n",
    "First, for each value of p below, generate 100 ER graphs with n=100 vertices, and find the empirical probability of an ER graph being fully connected. "
   ]
  },
  {
   "cell_type": "code",
   "execution_count": null,
   "metadata": {},
   "outputs": [],
   "source": [
    "p_vals = [0.9**i for i in range(15, 55)]\n",
    "num_trials = 100\n",
    "n = 100\n",
    "\n",
    "empirical_probs = []\n",
    "for p in p_vals:\n",
    "    ### YOUR CODE HERE\n",
    "    \n",
    "    ### END YOUR CODE"
   ]
  },
  {
   "cell_type": "markdown",
   "metadata": {},
   "source": [
    "Plot the empirical probabilities against values of p. We recommend using a log scale for the x-axis."
   ]
  },
  {
   "cell_type": "code",
   "execution_count": null,
   "metadata": {},
   "outputs": [],
   "source": [
    "### YOUR CODE HERE\n",
    "\n",
    "### END YOUR CODE"
   ]
  },
  {
   "cell_type": "markdown",
   "metadata": {},
   "source": [
    "#### What is the threshold in which with high probability, the graph is connected? Draw a vertical line at that threshold. Give a mathematical answer, and tell us whether or not it is supported in your graph.\n",
    "\n",
    "Hint: Take a look at the Isolated Vertices question in your homework. \n",
    "\n",
    "#### YOUR ANSWER HERE"
   ]
  },
  {
   "cell_type": "markdown",
   "metadata": {},
   "source": [
    "#### Part 2\n",
    "Now, for each value of p below, generate 100 ER graphs with n=100 vertices, and find the empirical probability of an ER graph having no connected components of size larger than $\\log(n)$. Plot the empirical probabilities against values of p. We recommend using a log scale for the x-axis."
   ]
  },
  {
   "cell_type": "code",
   "execution_count": null,
   "metadata": {},
   "outputs": [],
   "source": [
    "p_vals = [0.9**i for i in range(20, 65)]\n",
    "num_trials = 100\n",
    "n = 100\n",
    "\n",
    "empirical_probs = []\n",
    "for p in p_vals:\n",
    "    ### YOUR CODE HERE\n",
    "\n",
    "    ### END YOUR CODE"
   ]
  },
  {
   "cell_type": "markdown",
   "metadata": {},
   "source": [
    "Then, plot the empirical probabilities against values of p. We recommend using a log scale for the x-axis."
   ]
  },
  {
   "cell_type": "code",
   "execution_count": null,
   "metadata": {},
   "outputs": [],
   "source": [
    "### YOUR CODE HERE\n",
    "\n",
    "### END YOUR CODE"
   ]
  },
  {
   "cell_type": "markdown",
   "metadata": {},
   "source": [
    "#### From your graph, what is the threshold in which with high probability, the graph has no connected components of size larger than $\\operatorname{O}(\\log(n))$? Draw a vertical line at the threshold.\n",
    "\n",
    "Hint: Take a look at the value of n*p.\n",
    "\n",
    "#### YOUR ANSWER HERE"
   ]
  },
  {
   "cell_type": "markdown",
   "metadata": {},
   "source": [
    "Cool! Now we've experimentally verified several results of the Erdős–Rényi graph. \n",
    "\n",
    "Isn't it neat that you can rigorously formalize this kind of qualitative behavior of a graph, and then clearly see them in simulation? "
   ]
  },
  {
   "cell_type": "markdown",
   "metadata": {},
   "source": [
    "## Question 3 -- The Stochastic Block Model"
   ]
  },
  {
   "cell_type": "markdown",
   "metadata": {},
   "source": [
    "So far we've discussed the Erdős–Rényi model of a random graph $G(n,p)$. There are extensions that are better, more realistic models in many situations.\n",
    "\n",
    "As a motivating example, consider the graph formed by friendships of Berkeley students and Stanford students on Facebook.  The probability of a friendship between two students both attending UC Berkeley is much higher than the probability that a student from UC Berkeley is friends with a student from Stanford. In the Erdos-Renyi model, however, the two edges formed by these friendships have the same probability!\n",
    "\n",
    "In this section, we will explore communities such as the following:\n",
    "\n",
    "<!-- <img src=\"https://data.graphstream-project.org/talks/CSSS2012/media/Community_Structure2.jpg\" width=300 /> -->\n",
    "<img src=\"images/community_structure_visualization.jpeg\" width=300>"
   ]
  },
  {
   "cell_type": "markdown",
   "metadata": {},
   "source": [
    "How will we do this? Use the <b>stochastic block model</b> (let's call it SBM) -- we have graphs of $G(n,p,q)$ (for simplicity, let's assume $n$ is even and $p>q$). \n",
    "\n",
    "In this model, we have two \"communities\" each of size $\\frac{n}{2}$ such that the probability of an edge existing between any two nodes within a community is $p$ and the probability of an edge between the two communities is $q$.\n",
    "\n",
    "<!-- <img src=\"http://i.imgur.com/JAPqQNf.png\" width=\"400\" height=\"400\" /> -->\n",
    "<img src=\"images/sbm_before_recovery.png\" width=\"400\" height=\"400\">"
   ]
  },
  {
   "cell_type": "markdown",
   "metadata": {},
   "source": [
    "Our goal will be to recover the original communities. For this example, the result would look something like:\n",
    "\n",
    "<!-- <img src=\"http://i.imgur.com/Ec2Xehs.png\" width=\"450\" height=\"450\" /> -->\n",
    "<img src=\"images/sbm_after_recovery.png\" width=\"450\" height=\"450\">\n",
    "\n",
    "Let's begin by defining a function to generate graphs according to the stochastic block model."
   ]
  },
  {
   "cell_type": "markdown",
   "metadata": {},
   "source": [
    "### 3a. Fill out the following function to create a graph $G(n,p,q)$ according to the SBM."
   ]
  },
  {
   "cell_type": "markdown",
   "metadata": {},
   "source": [
    "**Important Note**: make sure that the first $\\frac{n}{2}$ nodes are part of community A and the second $\\frac{n}{2}$ nodes are part of community B.\n",
    "\n",
    "We will be using this assumption for later questions in this lab, when we try to recover the two communities."
   ]
  },
  {
   "cell_type": "code",
   "execution_count": null,
   "metadata": {},
   "outputs": [],
   "source": [
    "def G_SBM(n: int, p: float, q: float) -> Graph:\n",
    "    \"\"\"\n",
    "    Create a copy of G(n, p, q) with 2 community where the first \n",
    "    n/2 nodes are part of the first community and the second n/2 \n",
    "    nodes are part of second community.\n",
    "\n",
    "    Consider using the provided graph.add_edge() function.\n",
    "    \"\"\"\n",
    "    assert n % 2 == 0\n",
    "    assert p > q\n",
    "    graph = Graph(n)\n",
    "    mid = n // 2\n",
    "    communityA = graph.vertices[:mid]\n",
    "    communityB = graph.vertices[mid:]\n",
    "    for u, v in itertools.combinations(communityA, 2):\n",
    "        ### YOUR CODE HERE\n",
    "        \n",
    "        ### END YOUR CODE\n",
    "    for u, v in itertools.combinations(communityB, 2):\n",
    "        ### YOUR CODE HERE\n",
    "        \n",
    "        ### END YOUR CODE\n",
    "    for u, v in itertools.product(communityA, communityB): \n",
    "        ### YOUR CODE HERE\n",
    "        \n",
    "        ### END YOUR CODE\n",
    "    return graph"
   ]
  },
  {
   "cell_type": "markdown",
   "metadata": {},
   "source": [
    "Let's try testing this out with an example graph -- check that it looks right!"
   ]
  },
  {
   "cell_type": "code",
   "execution_count": null,
   "metadata": {},
   "outputs": [],
   "source": [
    "graph = G_SBM(20, 0.6, 0.05)\n",
    "plt.figure(figsize=(12, 12))\n",
    "draw_graph(graph,graph_layout='spring')"
   ]
  },
  {
   "cell_type": "markdown",
   "metadata": {},
   "source": [
    "Now recall the previous example:\n",
    "\n",
    "<img src=\"http://i.imgur.com/Ec2Xehs.png\" width=\"450\" height=\"450\" />\n"
   ]
  },
  {
   "cell_type": "markdown",
   "metadata": {},
   "source": [
    "How did we determine the most likely assignment of nodes to communities?\n",
    "\n",
    "An intuitive approach is to find the **min-bisection** -- the split of $G$ into 2 groups each of size $\\frac{n}{2}$ that has the *minimum total edges crossing the partition*. The intuition here is that we want to **minimize** friendships across communities, as under our assumptions, **p > q** so it is more likely to be friends within a community than across. Notice, if we assume that **p < q**, then we would have been interested in the max-bisection.\n",
    "\n",
    "It turns out that this approach is the optimal method of recovering community assignments in terms of maximizing over all possible partitions the probability of seeing the graph $G$ given a community partition. This is called the Maximum Likelihood Estimate (MLE) of the partition given the graph G. It is an interesting exercise to prove this which you can try if you would like. You will prove this result in homework when we go over Maximum Likelihood Estimation and Maximum A Posteriori Estimation."
   ]
  },
  {
   "cell_type": "markdown",
   "metadata": {},
   "source": [
    "### 3b. Given a graph $G(n,p,q)$, write a function to find the maximum likelihood estimate of the two communities."
   ]
  },
  {
   "cell_type": "code",
   "execution_count": null,
   "metadata": {},
   "outputs": [],
   "source": [
    "def count_crossing_edges(community: Set[Vertex], graph: Graph) -> int:\n",
    "    \"\"\"\n",
    "    Find the number of edges cross the partition between this community \n",
    "    and the rest of the vertices in the graph.\n",
    "    \"\"\"\n",
    "    other = set(graph.vertices).difference(set(community))\n",
    "    num_crossings = 0\n",
    "    ### YOUR CODE HERE\n",
    "    \n",
    "    ### END YOUR CODE\n",
    "    return num_crossings\n",
    "\n",
    "def mle(graph: Graph) -> Iterable[Vertex]:\n",
    "    \"\"\"\n",
    "    Tries every possible way to partition the graph into communities of equal\n",
    "    size and returns the partition with the fewest number of edges crossing \n",
    "    between the communites.\n",
    "    \"\"\"\n",
    "    possible_comms = set(\n",
    "        itertools.combinations(graph.vertices, len(graph.vertices)//2)\n",
    "    )\n",
    "    return min(possible_comms, key=lambda comm: count_crossing_edges(comm, graph))"
   ]
  },
  {
   "cell_type": "markdown",
   "metadata": {},
   "source": [
    "Here's a quick test for your MLE function -- check that the resulting partitions look okay!"
   ]
  },
  {
   "cell_type": "code",
   "execution_count": null,
   "metadata": {},
   "outputs": [],
   "source": [
    "graph = G_SBM(10, 0.6, 0.05)\n",
    "plt.figure(figsize=(8, 8))\n",
    "draw_graph(graph,graph_layout='spring')"
   ]
  },
  {
   "cell_type": "code",
   "execution_count": null,
   "metadata": {},
   "outputs": [],
   "source": [
    "community = mle(graph)\n",
    "assert len(community) == 5\n",
    "\n",
    "print('The community found is the nodes', community)"
   ]
  },
  {
   "cell_type": "markdown",
   "metadata": {},
   "source": [
    "Now recall that important note from earlier -- in the graphs we generate, the first $\\frac{n}{2}$ nodes are from community A and the second $\\frac{n}{2}$ nodes from community B.\n",
    "\n",
    "We can therefore test whether or not our MLE method accurately recovers these two communities from randomly generated graphs that we generate. In this section we will simulate the probability of exact recovery using MLE."
   ]
  },
  {
   "cell_type": "markdown",
   "metadata": {},
   "source": [
    "### 3c (Optional). Write a function to simulate the probability of exact recovery through MLE given $n,p,q$. "
   ]
  },
  {
   "cell_type": "code",
   "execution_count": null,
   "metadata": {},
   "outputs": [],
   "source": [
    "def prob_recovery(n: int, p: float, q: float) -> float:\n",
    "    \"\"\"\n",
    "    Simulate the probability of exact recovery through MLE.\n",
    "    Use 100 samples.\n",
    "    \"\"\"\n",
    "    ### YOUR CODE HERE\n",
    "    \n",
    "    ### END YOUR CODE"
   ]
  },
  {
   "cell_type": "markdown",
   "metadata": {},
   "source": [
    "Here's a few examples to test your simulation:"
   ]
  },
  {
   "cell_type": "code",
   "execution_count": null,
   "metadata": {},
   "outputs": [],
   "source": [
    "print(\"P(recovery) for n=10, p=0.5, q=0.05 --\", prob_recovery(10, 0.5, 0.05)) # usually recovers\n",
    "print(\"P(recovery) for n=10, p=0.92, q=0.06 --\", prob_recovery(10, 0.92, 0.06))  # almost certainly recovers\n",
    "print(\"P(recovery) for n=10, p=0.12, q=0.06 --\", prob_recovery(10, 0.12, 0.06))  # almost certainly fails"
   ]
  },
  {
   "cell_type": "markdown",
   "metadata": {},
   "source": [
    "### 3d (Optional). Can you find a threshold on $(p, q, n)$ for exact recovery through MLE?"
   ]
  },
  {
   "cell_type": "markdown",
   "metadata": {},
   "source": [
    "It turns out that there is a threshold on $(p,q,n)$ for a phase transition which determines whether or not the communities can be recovered using MLE.\n",
    "\n",
    "This part of the lab is meant to be open-ended. You should use the code you've already written to help arrive at an expression for threshold in the form\n",
    "\n",
    "$$f(p,q,n) > 1$$\n",
    "\n",
    "After this threshold, can almost recover the original communities in the SBM."
   ]
  },
  {
   "cell_type": "markdown",
   "metadata": {},
   "source": [
    "Define the following:\n",
    "$$\\alpha=p\\frac{\\log n}{n}$$\n",
    "$$\\beta=q\\frac{\\log n}{n}$$\n",
    "\n",
    "The threshold for exact recovery occurs at\n",
    "$$\\frac{\\alpha + \\beta}{2} - \\sqrt{\\alpha\\beta} > 1$$\n",
    "\n",
    "Those curious are encouraged to check out the paper [Exact Recovery in the Stochastic Block Model](http://arxiv.org/pdf/1405.3267.pdf) (Abbe, Bandeira, Hall)"
   ]
  },
  {
   "cell_type": "markdown",
   "metadata": {},
   "source": [
    "Congratulations! You've reached the end of the lab."
   ]
  },
  {
   "cell_type": "markdown",
   "metadata": {},
   "source": [
    "## References\n",
    "\n",
    "1. https://www.udacity.com/wiki/creating-network-graphs-with-python"
   ]
  }
 ],
 "metadata": {
  "kernelspec": {
   "display_name": "Python 3 (ipykernel)",
   "language": "python",
   "name": "python3"
  },
  "language_info": {
   "codemirror_mode": {
    "name": "ipython",
    "version": 3
   },
   "file_extension": ".py",
   "mimetype": "text/x-python",
   "name": "python",
   "nbconvert_exporter": "python",
   "pygments_lexer": "ipython3",
   "version": "3.9.0"
  }
 },
 "nbformat": 4,
 "nbformat_minor": 4
}
